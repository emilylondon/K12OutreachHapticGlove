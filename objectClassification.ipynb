{
 "cells": [
  {
   "cell_type": "code",
   "execution_count": 164,
   "metadata": {},
   "outputs": [],
   "source": [
    "import pandas as pd \n",
    "import numpy as np \n",
    "import matplotlib.pyplot as plt\n",
    "import seaborn as sns \n",
    "import pickle\n",
    "\n",
    "from sklearn.model_selection import train_test_split, cross_val_score\n",
    "from sklearn.neighbors import KNeighborsClassifier\n",
    "from sklearn.ensemble import GradientBoostingClassifier\n",
    "# from sklearn.linear_model import LogisticRegression \n",
    "import scikitplot as skplt\n",
    "\n",
    "from sklearn.preprocessing import MinMaxScaler\n",
    "from sklearn.metrics import classification_report, confusion_matrix, f1_score, accuracy_score, roc_curve, auc"
   ]
  },
  {
   "cell_type": "code",
   "execution_count": 165,
   "id": "62d6b199",
   "metadata": {},
   "outputs": [
    {
     "data": {
      "text/html": [
       "<div>\n",
       "<style scoped>\n",
       "    .dataframe tbody tr th:only-of-type {\n",
       "        vertical-align: middle;\n",
       "    }\n",
       "\n",
       "    .dataframe tbody tr th {\n",
       "        vertical-align: top;\n",
       "    }\n",
       "\n",
       "    .dataframe thead th {\n",
       "        text-align: right;\n",
       "    }\n",
       "</style>\n",
       "<table border=\"1\" class=\"dataframe\">\n",
       "  <thead>\n",
       "    <tr style=\"text-align: right;\">\n",
       "      <th></th>\n",
       "      <th>sensor1</th>\n",
       "      <th>sensor2</th>\n",
       "      <th>sensor3</th>\n",
       "      <th>sensor4</th>\n",
       "      <th>sensor5</th>\n",
       "      <th>sensor6</th>\n",
       "      <th>object</th>\n",
       "    </tr>\n",
       "  </thead>\n",
       "  <tbody>\n",
       "    <tr>\n",
       "      <th>0</th>\n",
       "      <td>128</td>\n",
       "      <td>128</td>\n",
       "      <td>128</td>\n",
       "      <td>128</td>\n",
       "      <td>128</td>\n",
       "      <td>128</td>\n",
       "      <td>0</td>\n",
       "    </tr>\n",
       "    <tr>\n",
       "      <th>1</th>\n",
       "      <td>132</td>\n",
       "      <td>132</td>\n",
       "      <td>132</td>\n",
       "      <td>132</td>\n",
       "      <td>132</td>\n",
       "      <td>132</td>\n",
       "      <td>0</td>\n",
       "    </tr>\n",
       "    <tr>\n",
       "      <th>2</th>\n",
       "      <td>132</td>\n",
       "      <td>132</td>\n",
       "      <td>132</td>\n",
       "      <td>132</td>\n",
       "      <td>132</td>\n",
       "      <td>132</td>\n",
       "      <td>0</td>\n",
       "    </tr>\n",
       "    <tr>\n",
       "      <th>3</th>\n",
       "      <td>136</td>\n",
       "      <td>136</td>\n",
       "      <td>136</td>\n",
       "      <td>136</td>\n",
       "      <td>136</td>\n",
       "      <td>136</td>\n",
       "      <td>0</td>\n",
       "    </tr>\n",
       "    <tr>\n",
       "      <th>4</th>\n",
       "      <td>136</td>\n",
       "      <td>136</td>\n",
       "      <td>136</td>\n",
       "      <td>136</td>\n",
       "      <td>136</td>\n",
       "      <td>136</td>\n",
       "      <td>0</td>\n",
       "    </tr>\n",
       "  </tbody>\n",
       "</table>\n",
       "</div>"
      ],
      "text/plain": [
       "   sensor1   sensor2   sensor3  sensor4   sensor5   sensor6   object \n",
       "0       128       128      128       128       128       128        0\n",
       "1       132       132      132       132       132       132        0\n",
       "2       132       132      132       132       132       132        0\n",
       "3       136       136      136       136       136       136        0\n",
       "4       136       136      136       136       136       136        0"
      ]
     },
     "execution_count": 165,
     "metadata": {},
     "output_type": "execute_result"
    }
   ],
   "source": [
    "# data = pd.read_csv('hapticObjectClassifier.csv')\n",
    "data = pd.read_csv('newData.csv')\n",
    "data.head()"
   ]
  },
  {
   "cell_type": "code",
   "execution_count": 166,
   "id": "1c5a932a",
   "metadata": {},
   "outputs": [
    {
     "data": {
      "text/plain": [
       "{0, 1, 2}"
      ]
     },
     "execution_count": 166,
     "metadata": {},
     "output_type": "execute_result"
    }
   ],
   "source": [
    "set(data['object '])"
   ]
  },
  {
   "cell_type": "code",
   "execution_count": 167,
   "metadata": {
    "scrolled": true
   },
   "outputs": [
    {
     "data": {
      "text/html": [
       "<div>\n",
       "<style scoped>\n",
       "    .dataframe tbody tr th:only-of-type {\n",
       "        vertical-align: middle;\n",
       "    }\n",
       "\n",
       "    .dataframe tbody tr th {\n",
       "        vertical-align: top;\n",
       "    }\n",
       "\n",
       "    .dataframe thead th {\n",
       "        text-align: right;\n",
       "    }\n",
       "</style>\n",
       "<table border=\"1\" class=\"dataframe\">\n",
       "  <thead>\n",
       "    <tr style=\"text-align: right;\">\n",
       "      <th></th>\n",
       "      <th>sensor1</th>\n",
       "      <th>sensor2</th>\n",
       "      <th>sensor3</th>\n",
       "      <th>sensor4</th>\n",
       "      <th>sensor5</th>\n",
       "      <th>sensor6</th>\n",
       "    </tr>\n",
       "  </thead>\n",
       "  <tbody>\n",
       "    <tr>\n",
       "      <th>0</th>\n",
       "      <td>128</td>\n",
       "      <td>128</td>\n",
       "      <td>128</td>\n",
       "      <td>128</td>\n",
       "      <td>128</td>\n",
       "      <td>128</td>\n",
       "    </tr>\n",
       "    <tr>\n",
       "      <th>1</th>\n",
       "      <td>132</td>\n",
       "      <td>132</td>\n",
       "      <td>132</td>\n",
       "      <td>132</td>\n",
       "      <td>132</td>\n",
       "      <td>132</td>\n",
       "    </tr>\n",
       "    <tr>\n",
       "      <th>2</th>\n",
       "      <td>132</td>\n",
       "      <td>132</td>\n",
       "      <td>132</td>\n",
       "      <td>132</td>\n",
       "      <td>132</td>\n",
       "      <td>132</td>\n",
       "    </tr>\n",
       "    <tr>\n",
       "      <th>3</th>\n",
       "      <td>136</td>\n",
       "      <td>136</td>\n",
       "      <td>136</td>\n",
       "      <td>136</td>\n",
       "      <td>136</td>\n",
       "      <td>136</td>\n",
       "    </tr>\n",
       "    <tr>\n",
       "      <th>4</th>\n",
       "      <td>136</td>\n",
       "      <td>136</td>\n",
       "      <td>136</td>\n",
       "      <td>136</td>\n",
       "      <td>136</td>\n",
       "      <td>136</td>\n",
       "    </tr>\n",
       "  </tbody>\n",
       "</table>\n",
       "</div>"
      ],
      "text/plain": [
       "   sensor1   sensor2   sensor3  sensor4   sensor5   sensor6 \n",
       "0       128       128      128       128       128       128\n",
       "1       132       132      132       132       132       132\n",
       "2       132       132      132       132       132       132\n",
       "3       136       136      136       136       136       136\n",
       "4       136       136      136       136       136       136"
      ]
     },
     "execution_count": 167,
     "metadata": {},
     "output_type": "execute_result"
    }
   ],
   "source": [
    "\n",
    "\n",
    "# 1002 we can modify the dataset to have actual labels (i.e. ball, water bottle, cube) \n",
    "# and then use sklearn preprocessing.LabelEncoder to convert string labels into numbers\n",
    "#data.head()\n",
    "X = data.iloc[:, :6]\n",
    "X.head()\n"
   ]
  },
  {
   "cell_type": "code",
   "execution_count": 168,
   "id": "768abf7a",
   "metadata": {},
   "outputs": [
    {
     "data": {
      "text/plain": [
       "0    0\n",
       "1    0\n",
       "2    0\n",
       "3    0\n",
       "4    0\n",
       "Name: object , dtype: int64"
      ]
     },
     "execution_count": 168,
     "metadata": {},
     "output_type": "execute_result"
    }
   ],
   "source": [
    "y = data['object ']\n",
    "y.head()"
   ]
  },
  {
   "cell_type": "code",
   "execution_count": null,
   "id": "937b01cd",
   "metadata": {},
   "outputs": [],
   "source": []
  },
  {
   "cell_type": "code",
   "execution_count": 169,
   "id": "5409e8b3",
   "metadata": {},
   "outputs": [],
   "source": [
    "x_train, x_test, y_train, y_test = train_test_split(X, y, test_size = 0.25, random_state = 42)\n",
    "scaler = MinMaxScaler()\n",
    "X_train = scaler.fit_transform(x_train)\n",
    "X_test = scaler.transform(x_test)\n",
    "\n",
    "\n"
   ]
  },
  {
   "cell_type": "code",
   "execution_count": 170,
   "id": "28072c31",
   "metadata": {},
   "outputs": [
    {
     "name": "stdout",
     "output_type": "stream",
     "text": [
      "Learning rate:  0.05\n",
      "\tAccuracy score (training): 1.00000000\n",
      "\tAccuracy score (validation): 0.99868074\n",
      "\tCross Validation score:  [1.         1.         1.         1.         0.99779656]\n",
      "Learning rate:  0.075\n",
      "\tAccuracy score (training): 1.00000000\n",
      "\tAccuracy score (validation): 0.99868074\n",
      "\tCross Validation score:  [1. 1. 1. 1. 1.]\n",
      "Learning rate:  0.1\n",
      "\tAccuracy score (training): 1.00000000\n",
      "\tAccuracy score (validation): 0.99868074\n",
      "\tCross Validation score:  [1. 1. 1. 1. 1.]\n",
      "Learning rate:  0.25\n",
      "\tAccuracy score (training): 1.00000000\n",
      "\tAccuracy score (validation): 1.00000000\n",
      "\tCross Validation score:  [1. 1. 1. 1. 1.]\n",
      "Learning rate:  0.3\n",
      "\tAccuracy score (training): 1.00000000\n",
      "\tAccuracy score (validation): 1.00000000\n",
      "\tCross Validation score:  [1. 1. 1. 1. 1.]\n",
      "Learning rate:  0.4\n",
      "\tAccuracy score (training): 1.00000000\n",
      "\tAccuracy score (validation): 1.00000000\n",
      "\tCross Validation score:  [1.         1.         1.         0.99780143 1.        ]\n",
      "Learning rate:  0.5\n",
      "\tAccuracy score (training): 1.00000000\n",
      "\tAccuracy score (validation): 1.00000000\n",
      "\tCross Validation score:  [1.         1.         1.         0.99780143 1.        ]\n",
      "Learning rate:  0.75\n",
      "\tAccuracy score (training): 1.00000000\n",
      "\tAccuracy score (validation): 1.00000000\n",
      "\tCross Validation score:  [1.         1.         1.         0.99780143 1.        ]\n",
      "Learning rate:  1\n",
      "\tAccuracy score (training): 1.00000000\n",
      "\tAccuracy score (validation): 1.00000000\n",
      "\tCross Validation score:  [1. 1. 1. 1. 1.]\n"
     ]
    }
   ],
   "source": [
    "lr_list = [0.05, 0.075, 0.1, 0.25, 0.3, 0.4, 0.5, 0.75, 1]\n",
    "\n",
    "for learning_rate in lr_list:\n",
    "    gb_clf = GradientBoostingClassifier(n_estimators=20, learning_rate=learning_rate, max_features=2, max_depth=2, random_state=0)\n",
    "    gb_clf.fit(X_train, y_train)\n",
    "\n",
    "    print(\"Learning rate: \", learning_rate)\n",
    "    print(\"\\tAccuracy score (training): {0:.8f}\".format(gb_clf.score(X_train, y_train)))\n",
    "    print(\"\\tAccuracy score (validation): {0:.8f}\".format(gb_clf.score(X_test, y_test)))\n",
    "    scores = cross_val_score(gb_clf, X_train, y_train, cv=5, scoring='f1_weighted')\n",
    "    print(\"\\tCross Validation score: \", scores)\n"
   ]
  },
  {
   "cell_type": "code",
   "execution_count": 171,
   "id": "f276a5b3",
   "metadata": {},
   "outputs": [
    {
     "name": "stdout",
     "output_type": "stream",
     "text": [
      "Confusion Matrix:\n",
      "[[252   0   0]\n",
      " [  0 267   0]\n",
      " [  0   0 239]]\n",
      "Classification Report\n",
      "              precision    recall  f1-score   support\n",
      "\n",
      "           0       1.00      1.00      1.00       252\n",
      "           1       1.00      1.00      1.00       267\n",
      "           2       1.00      1.00      1.00       239\n",
      "\n",
      "    accuracy                           1.00       758\n",
      "   macro avg       1.00      1.00      1.00       758\n",
      "weighted avg       1.00      1.00      1.00       758\n",
      "\n"
     ]
    }
   ],
   "source": [
    "gb_clf2 = GradientBoostingClassifier(n_estimators=20, learning_rate=0.3, max_features=2, max_depth=2, random_state=0)\n",
    "gb_clf2.fit(X_train, y_train)\n",
    "predictions = gb_clf2.predict(X_test)\n",
    "y_proba = gb_clf2.predict_proba(X_test)\n",
    "\n",
    "print(\"Confusion Matrix:\")\n",
    "print(confusion_matrix(y_test, predictions))\n",
    "\n",
    "print(\"Classification Report\")\n",
    "print(classification_report(y_test, predictions))"
   ]
  },
  {
   "cell_type": "code",
   "execution_count": 172,
   "id": "a7a9ba41",
   "metadata": {},
   "outputs": [
    {
     "data": {
      "text/plain": [
       "(758,)"
      ]
     },
     "execution_count": 172,
     "metadata": {},
     "output_type": "execute_result"
    }
   ],
   "source": [
    "y_test.shape"
   ]
  },
  {
   "cell_type": "code",
   "execution_count": 173,
   "id": "f7c2606e",
   "metadata": {},
   "outputs": [
    {
     "data": {
      "text/plain": [
       "<AxesSubplot:title={'center':'Confusion Matrix for GBC'}, xlabel='Predicted label', ylabel='True label'>"
      ]
     },
     "execution_count": 173,
     "metadata": {},
     "output_type": "execute_result"
    },
    {
     "data": {
      "image/png": "[encoded data removed]",
      "text/plain": [
       "<Figure size 432x288 with 2 Axes>"
      ]
     },
     "metadata": {
      "needs_background": "light"
     },
     "output_type": "display_data"
    }
   ],
   "source": [
    "skplt.metrics.plot_confusion_matrix(y_test, predictions, normalize=False, title = 'Confusion Matrix for GBC')"
   ]
  },
  {
   "cell_type": "code",
   "execution_count": 174,
   "id": "3757681d",
   "metadata": {},
   "outputs": [
    {
     "data": {
      "text/plain": [
       "<AxesSubplot:title={'center':'ROC Plot for GBC'}, xlabel='False Positive Rate', ylabel='True Positive Rate'>"
      ]
     },
     "execution_count": 174,
     "metadata": {},
     "output_type": "execute_result"
    },
    {
     "data": {
      "image/png": "[encoded data removed]",
      "text/plain": [
       "<Figure size 432x288 with 1 Axes>"
      ]
     },
     "metadata": {
      "needs_background": "light"
     },
     "output_type": "display_data"
    }
   ],
   "source": [
    "skplt.metrics.plot_roc(y_test, y_proba, title = 'ROC Plot for GBC')\n"
   ]
  },
  {
   "cell_type": "code",
   "execution_count": 175,
   "id": "c2cafb4a",
   "metadata": {},
   "outputs": [
    {
     "data": {
      "text/plain": [
       "<AxesSubplot:title={'center':'PR Curve for GBC'}, xlabel='Recall', ylabel='Precision'>"
      ]
     },
     "execution_count": 175,
     "metadata": {},
     "output_type": "execute_result"
    },
    {
     "data": {
      "image/png": "[encoded data removed]",
      "text/plain": [
       "<Figure size 432x288 with 1 Axes>"
      ]
     },
     "metadata": {
      "needs_background": "light"
     },
     "output_type": "display_data"
    }
   ],
   "source": [
    "skplt.metrics.plot_precision_recall(y_test, y_proba, title = 'PR Curve for GBC')\n"
   ]
  },
  {
   "cell_type": "code",
   "execution_count": 176,
   "id": "4114f7c3",
   "metadata": {},
   "outputs": [
    {
     "data": {
      "text/plain": [
       "1.0"
      ]
     },
     "execution_count": 176,
     "metadata": {},
     "output_type": "execute_result"
    }
   ],
   "source": [
    "fpr, tpr, thresholds = roc_curve(y_test, y_test, pos_label=2)\n",
    "auc(fpr, tpr)"
   ]
  },
  {
   "cell_type": "markdown",
   "id": "2d541c02",
   "metadata": {},
   "source": [
    "## K-Nearest Neighbors Classifier"
   ]
  },
  {
   "cell_type": "code",
   "execution_count": 177,
   "id": "450778f3",
   "metadata": {},
   "outputs": [
    {
     "data": {
      "text/plain": [
       "Text(0.5, 1.0, 'Distribution of Object Predictions')"
      ]
     },
     "execution_count": 177,
     "metadata": {},
     "output_type": "execute_result"
    },
    {
     "data": {
      "image/png": "[encoded data removed]",
      "text/plain": [
       "<Figure size 432x288 with 1 Axes>"
      ]
     },
     "metadata": {
      "needs_background": "light"
     },
     "output_type": "display_data"
    }
   ],
   "source": [
    "ax=sns.histplot(predictions)\n",
    "ax.set_title(\"Distribution of Object Predictions\")"
   ]
  },
  {
   "cell_type": "code",
   "execution_count": 178,
   "id": "d668f12a",
   "metadata": {},
   "outputs": [
    {
     "data": {
      "text/plain": [
       "(2274, 6)"
      ]
     },
     "execution_count": 178,
     "metadata": {},
     "output_type": "execute_result"
    }
   ],
   "source": [
    "'''knn = KNeighborsClassifier(n_neighbors=3)\n",
    "\n",
    "knn.fit(x_train, y_train)\n",
    "x_train.shape'''"
   ]
  },
  {
   "cell_type": "code",
   "execution_count": 179,
   "id": "2add8abd",
   "metadata": {},
   "outputs": [
    {
     "data": {
      "text/plain": [
       "(758,)"
      ]
     },
     "execution_count": 179,
     "metadata": {},
     "output_type": "execute_result"
    }
   ],
   "source": [
    "y_test.shape"
   ]
  },
  {
   "cell_type": "code",
   "execution_count": 180,
   "metadata": {},
   "outputs": [
    {
     "name": "stdout",
     "output_type": "stream",
     "text": [
      "y_pred_test\t\t: [2 2 2 2 2 2 2 2 2 2 2 2 2 2 2 2 2 2 2 2 2 2 2 2 2 2 2 2 2 2 2 2 2 2 2 2 2\n",
      " 2 2 2 2 2 2 2 2 2 2 2 2 2 2 2 2 2 2 2 2 2 2 2 2 2 2 2 2 2 2 2 2 2 2 2 2 2\n",
      " 2 2 2 2 2 2 2 2 2 2 2 2 2 2 2 2 2 2 2 2 2 2 2 2 2 2 2 2 2 2 2 2 2 2 2 2 2\n",
      " 2 2 2 2 2 2 2 2 2 2 2 2 2 2 2 2 2 2 2 2 2 2 2 2 2 2 2 2 2 2 2 2 2 2 2 2 2\n",
      " 2 2 2 2 2 2 2 2 2 2 2 2 2 2 2 2 2 2 2 2 2 2 2 2 2 2 2 2 2 2 2 2 2 2 2 2 2\n",
      " 2 2 2 2 2 2 2 2 2 2 2 2 2 2 2 2 2 2 2 2 2 2 2 2 2 2 2 2 2 2 2 2 2 2 2 2 2\n",
      " 2 2 2 2 2 2 2 2 2 2 2 2 2 2 2 2 2 2 2 2 2 2 2 2 2 2 2 2 2 2 2 2 2 2 2 2 2\n",
      " 2 2 2 2 2 2 2 2 2 2 2 2 2 2 2 2 2 2 2 2 2 2 2 2 2 2 2 2 2 2 2 2 2 2 2 2 2\n",
      " 2 2 2 2 2 2 2 2 2 2 2 2 2 2 2 2 2 2 2 2 2 2 2 2 2 2 2 2 2 2 2 2 2 2 2 2 2\n",
      " 2 2 2 2 2 2 2 2 2 2 2 2 2 2 2 2 2 2 2 2 2 2 2 2 2 2 2 2 2 2 2 2 2 2 2 2 2\n",
      " 2 2 2 2 2 2 2 2 2 2 2 2 2 2 2 2 2 2 2 2 2 2 2 2 2 2 2 2 2 2 2 2 2 2 2 2 2\n",
      " 2 2 2 2 2 2 2 2 2 2 2 2 2 2 2 2 2 2 2 2 2 2 2 2 2 2 2 2 2 2 2 2 2 2 2 2 2\n",
      " 2 2 2 2 2 2 2 2 2 2 2 2 2 2 2 2 2 2 2 2 2 2 2 2 2 2 2 2 2 2 2 2 2 2 2 2 2\n",
      " 2 2 2 2 2 2 2 2 2 2 2 2 2 2 2 2 2 2 2 2 2 2 2 2 2 2 2 2 2 2 2 2 2 2 2 2 2\n",
      " 2 2 2 2 2 2 2 2 2 2 2 2 2 2 2 2 2 2 2 2 2 2 2 2 2 2 2 2 2 2 2 2 2 2 2 2 2\n",
      " 2 2 2 2 2 2 2 2 2 2 2 2 2 2 2 2 2 2 2 2 2 2 2 2 2 2 2 2 2 2 2 2 2 2 2 2 2\n",
      " 2 2 2 2 2 2 2 2 2 2 2 2 2 2 2 2 2 2 2 2 2 2 2 2 2 2 2 2 2 2 2 2 2 2 2 2 2\n",
      " 2 2 2 2 2 2 2 2 2 2 2 2 2 2 2 2 2 2 2 2 2 2 2 2 2 2 2 2 2 2 2 2 2 2 2 2 2\n",
      " 2 2 2 2 2 2 2 2 2 2 2 2 2 2 2 2 2 2 2 2 2 2 2 2 2 2 2 2 2 2 2 2 2 2 2 2 2\n",
      " 2 2 2 2 2 2 2 2 2 2 2 2 2 2 2 2 2 2 2 2 2 2 2 2 2 2 2 2 2 2 2 2 2 2 2 2 2\n",
      " 2 2 2 2 2 2 2 2 2 2 2 2 2 2 2 2 2 2]\n",
      "y_test     \t\t: 2138    2\n",
      "1565    1\n",
      "2674    2\n",
      "869     0\n",
      "1255    1\n",
      "       ..\n",
      "1638    1\n",
      "1095    1\n",
      "1130    1\n",
      "1294    1\n",
      "860     0\n",
      "Name: object , Length: 2274, dtype: int64\n",
      "Accuracy_train: 0.3153\n",
      "KNN accuracy_train: 0.3153034300791557\n",
      "Accuracy_train: 0.3193\n",
      "KNN accuracy_train: 0.31926121372031663\n",
      "F1 score: 0.3153034300791557\n"
     ]
    }
   ],
   "source": [
    "'''\n",
    "y_pred_train = knn.predict(X_train)\n",
    "y_pred_test = knn.predict(X_test)\n",
    "# clf = LogisticRegression()\n",
    "print(f'y_pred_test\\t\\t: {y_pred_test}')\n",
    "print(f'y_test     \\t\\t: {y_train}')\n",
    "\n",
    "\n",
    "print(f'Accuracy_train: {accuracy_score(y_test, y_pred_test):.4f}')\n",
    "print(f'KNN accuracy_train: {knn.score(X_test, y_test)}')\n",
    "\n",
    "print(f'Accuracy_train: {accuracy_score(y_train, y_pred_train):.4f}')\n",
    "print(f'KNN accuracy_train: {knn.score(X_train, y_train)}')\n",
    "\n",
    "print(f\"F1 score: {f1_score(y_test, y_pred_test, average='micro')}\")'''"
   ]
  },
  {
   "cell_type": "code",
   "execution_count": null,
   "id": "68721e4f",
   "metadata": {},
   "outputs": [],
   "source": []
  },
  {
   "cell_type": "code",
   "execution_count": 181,
   "id": "f94b9116",
   "metadata": {},
   "outputs": [
    {
     "data": {
      "text/plain": [
       "1.0"
      ]
     },
     "execution_count": 181,
     "metadata": {},
     "output_type": "execute_result"
    }
   ],
   "source": [
    "fpr, tpr, thresholds = roc_curve(y_test, y_test, pos_label=2)\n",
    "auc(fpr, tpr)"
   ]
  },
  {
   "cell_type": "code",
   "execution_count": null,
   "id": "2ef456a9",
   "metadata": {},
   "outputs": [],
   "source": []
  },
  {
   "cell_type": "code",
   "execution_count": 182,
   "metadata": {},
   "outputs": [
    {
     "data": {
      "text/plain": [
       "'prediction = []\\nfor i in range(11):\\n    p = knn.predict(x_test[i].reshape(1,-1))\\n    prediction.append(p[0])\\n\\nprint(prediction)'"
      ]
     },
     "execution_count": 182,
     "metadata": {},
     "output_type": "execute_result"
    }
   ],
   "source": [
    "'''prediction = []\n",
    "for i in range(11):\n",
    "    p = knn.predict(x_test[i].reshape(1,-1))\n",
    "    prediction.append(p[0])\n",
    "\n",
    "print(prediction)'''"
   ]
  },
  {
   "cell_type": "code",
   "execution_count": 183,
   "metadata": {},
   "outputs": [],
   "source": [
    "with open('model.pkl', 'wb') as model_file:\n",
    "  pickle.dump(gb_clf2, model_file)"
   ]
  },
  {
   "cell_type": "code",
   "execution_count": 184,
   "metadata": {},
   "outputs": [
    {
     "name": "stdout",
     "output_type": "stream",
     "text": [
      "0.3051890941072999\n"
     ]
    }
   ],
   "source": [
    "loaded_model = pickle.load(open(\"model.pkl\", 'rb'))\n",
    "result = loaded_model.score(x_train, y_train)\n",
    "print(result)"
   ]
  },
  {
   "cell_type": "code",
   "execution_count": 185,
   "metadata": {},
   "outputs": [
    {
     "data": {
      "text/plain": [
       "'x_train, x_test, y_train, y_test = train_test_split(X, y, test_size = 0.2, random_state = 42)\\nknn = KNeighborsClassifier(n_neighbors=3)\\n\\nknn.fit(x_train, y_train)\\nclf = LogisticRegression()\\nclf.fit(x_train, y_train)\\n\\nprint(knn.score(x_test, y_test))\\nprint(clf.score(x_test, y_test))'"
      ]
     },
     "execution_count": 185,
     "metadata": {},
     "output_type": "execute_result"
    }
   ],
   "source": [
    "'''x_train, x_test, y_train, y_test = train_test_split(X, y, test_size = 0.2, random_state = 42)\n",
    "knn = KNeighborsClassifier(n_neighbors=3)\n",
    "\n",
    "knn.fit(x_train, y_train)\n",
    "clf = LogisticRegression()\n",
    "clf.fit(x_train, y_train)\n",
    "\n",
    "print(knn.score(x_test, y_test))\n",
    "print(clf.score(x_test, y_test))'''"
   ]
  },
  {
   "cell_type": "code",
   "execution_count": 186,
   "metadata": {},
   "outputs": [
    {
     "data": {
      "text/plain": [
       "'prediction = []\\nfor i in range(11):\\n    p = knn.predict(x_test[i].reshape(1,-1))\\n    prediction.append(p[0])\\n\\nprint(prediction)'"
      ]
     },
     "execution_count": 186,
     "metadata": {},
     "output_type": "execute_result"
    }
   ],
   "source": [
    "'''prediction = []\n",
    "for i in range(11):\n",
    "    p = knn.predict(x_test[i].reshape(1,-1))\n",
    "    prediction.append(p[0])\n",
    "\n",
    "print(prediction)'''"
   ]
  },
  {
   "cell_type": "code",
   "execution_count": 187,
   "metadata": {},
   "outputs": [],
   "source": [
    "# with open('model.pkl', 'wb') as model_file:\n",
    "#   pickle.dump(knn, model_file)"
   ]
  },
  {
   "cell_type": "code",
   "execution_count": null,
   "metadata": {},
   "outputs": [],
   "source": []
  }
 ],
 "metadata": {
  "kernelspec": {
   "display_name": "Python 3.8.5 ('base')",
   "language": "python",
   "name": "python3"
  },
  "language_info": {
   "codemirror_mode": {
    "name": "ipython",
    "version": 3
   },
   "file_extension": ".py",
   "mimetype": "text/x-python",
   "name": "python",
   "nbconvert_exporter": "python",
   "pygments_lexer": "ipython3",
   "version": "3.8.5"
  },
  "vscode": {
   "interpreter": {
    "hash": "ad2bdc8ecc057115af97d19610ffacc2b4e99fae6737bb82f5d7fb13d2f2c186"
   }
  }
 },
 "nbformat": 4,
 "nbformat_minor": 5
}
