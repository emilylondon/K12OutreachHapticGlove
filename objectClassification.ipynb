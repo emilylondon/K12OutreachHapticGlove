{
 "cells": [
  {
   "cell_type": "code",
   "execution_count": 41,
   "metadata": {},
   "outputs": [],
   "source": [
    "import pandas as pd \n",
    "import numpy as np \n",
    "import matplotlib.pyplot as plt\n",
    "import seaborn as sns \n",
    "import pickle\n",
    "\n",
    "from sklearn.model_selection import train_test_split, cross_val_score\n",
    "from sklearn.neighbors import KNeighborsClassifier\n",
    "from sklearn.ensemble import GradientBoostingClassifier\n",
    "# from sklearn.linear_model import LogisticRegression \n",
    "from sklearn.preprocessing import MinMaxScaler\n",
    "from sklearn.metrics import classification_report, confusion_matrix, f1_score, accuracy_score, roc_curve, auc"
   ]
  },
  {
   "cell_type": "code",
   "execution_count": 42,
   "metadata": {
    "scrolled": true
   },
   "outputs": [
    {
     "name": "stdout",
     "output_type": "stream",
     "text": [
      "    sensor1   sensor2   sensor3  sensor4   sensor5   sensor6   object \n",
      "0        224       232      233       238       240       266        1\n",
      "1        240       230      230       231       233       223        0\n",
      "2        267       228      227       221       220       221        2\n",
      "3        229       237      231       238       230       262        1\n",
      "4        240       233      232       240       236       230        0\n",
      "5        263       224      230       222       223       227        2\n",
      "6        221       239      236       236       230       250        1\n",
      "7        231       234      234       236       234       223        0\n",
      "8        268       229      223       220       229       230        2\n",
      "9        228       230      239       230       236       260        1\n",
      "10       232       233      234       235       232       222        0\n",
      "11       260       223      221       229       220       226        2\n",
      "12       225       240      232       240       236       256        1\n",
      "13       230       231      233       235       239       220        0\n",
      "14       250       222      230       220       222       221        2\n",
      "15       226       235      232       239       232       253        1\n",
      "16       232       235      231       239       237       226        0\n",
      "17       264       220      226       226       221       224        2\n",
      "18       228       237      238       230       237       258        1\n",
      "19       238       232      239       234       235       223        0\n",
      "20       270       221      226       221       222       229        2\n",
      "21       225       238      235       234       236       261        1\n",
      "22       235       239      238       237       233       221        0\n",
      "23       265       226      228       220       230       222        2\n",
      "24       228       232      239       230       240       262        1\n",
      "25       231       233      233       237       239       223        0\n",
      "26       264       228      221       229       227       229        2\n",
      "27       222       234      233       240       238       258        1\n",
      "28       240       234      238       235       237       228        0\n",
      "29       270       227      227       228       230       229        2\n",
      "30       220       234      237       237       230       253        1\n",
      "31       233       235      230       239       238       221        0\n",
      "32       264       220      225       220       220       220        2\n",
      "33       230       240      239       235       240       250        1\n",
      "34       238       239      233       239       238       220        0\n",
      "35       263       225      227       222       226       229        2\n",
      "36       221       230      235       231       237       252        1\n",
      "37       232       234      239       240       238       224        0\n",
      "38       251       227      226       224       227       220        2\n",
      "39       229       238      237       236       239       265        1\n",
      "40       238       237      238       238       230       230        0\n",
      "41       255       220      223       230       221       226        2\n",
      "42       227       236      232       237       230       265        1\n",
      "43       235       239      235       240       233       225        0\n",
      "44       254       230      228       223       221       229        2\n",
      "45       223       237      237       235       240       251        1\n",
      "46       234       237      232       239       239       230        0\n",
      "47       256       229      221       225       224       227        2\n",
      "48       228       238      236       240       234       260        1\n",
      "49       232       237      240       230       234       228        0\n",
      "50       250       224      230       222       223       221        2\n",
      "51       229       230      239       236       233       270        1\n",
      "52       237       238      234       240       232       222        0\n",
      "53       262       220      227       222       229       230        2\n"
     ]
    }
   ],
   "source": [
    "data = pd.read_csv('hapticObjectClassifier.csv')\n",
    "print(data)\n",
    "\n",
    "# 1002 we can modify the dataset to have actual labels (i.e. ball, water bottle, cube) \n",
    "# and then use sklearn preprocessing.LabelEncoder to convert string labels into numbers\n",
    "#data.head()\n",
    "X = data.iloc[:, :6].values\n",
    "y = data['object '].values"
   ]
  },
  {
   "cell_type": "code",
   "execution_count": 43,
   "id": "5409e8b3",
   "metadata": {},
   "outputs": [],
   "source": [
    "x_train, x_test, y_train, y_test = train_test_split(X, y, test_size = 0.25, random_state = 42)\n",
    "scaler = MinMaxScaler()\n",
    "X_train = scaler.fit_transform(x_train)\n",
    "X_test = scaler.transform(x_test)\n",
    "\n",
    "\n"
   ]
  },
  {
   "cell_type": "code",
   "execution_count": 44,
   "id": "28072c31",
   "metadata": {},
   "outputs": [
    {
     "name": "stdout",
     "output_type": "stream",
     "text": [
      "Learning rate:  0.05\n",
      "\tAccuracy score (training): 1.00000000\n",
      "\tAccuracy score (validation): 0.92857143\n",
      "\tCross Validation score:  [1. 1. 1. 1. 1.]\n",
      "Learning rate:  0.075\n",
      "\tAccuracy score (training): 1.00000000\n",
      "\tAccuracy score (validation): 0.92857143\n",
      "\tCross Validation score:  [1. 1. 1. 1. 1.]\n",
      "Learning rate:  0.1\n",
      "\tAccuracy score (training): 1.00000000\n",
      "\tAccuracy score (validation): 0.92857143\n",
      "\tCross Validation score:  [1. 1. 1. 1. 1.]\n",
      "Learning rate:  0.25\n",
      "\tAccuracy score (training): 1.00000000\n",
      "\tAccuracy score (validation): 0.92857143\n",
      "\tCross Validation score:  [1. 1. 1. 1. 1.]\n",
      "Learning rate:  0.5\n",
      "\tAccuracy score (training): 1.00000000\n",
      "\tAccuracy score (validation): 0.92857143\n",
      "\tCross Validation score:  [1. 1. 1. 1. 1.]\n",
      "Learning rate:  0.75\n",
      "\tAccuracy score (training): 1.00000000\n",
      "\tAccuracy score (validation): 0.92857143\n",
      "\tCross Validation score:  [1. 1. 1. 1. 1.]\n",
      "Learning rate:  1\n",
      "\tAccuracy score (training): 1.00000000\n",
      "\tAccuracy score (validation): 0.92857143\n",
      "\tCross Validation score:  [1. 1. 1. 1. 1.]\n"
     ]
    }
   ],
   "source": [
    "lr_list = [0.05, 0.075, 0.1, 0.25, 0.5, 0.75, 1]\n",
    "\n",
    "for learning_rate in lr_list:\n",
    "    gb_clf = GradientBoostingClassifier(n_estimators=20, learning_rate=learning_rate, max_features=2, max_depth=2, random_state=0)\n",
    "    gb_clf.fit(X_train, y_train)\n",
    "\n",
    "    print(\"Learning rate: \", learning_rate)\n",
    "    print(\"\\tAccuracy score (training): {0:.8f}\".format(gb_clf.score(X_train, y_train)))\n",
    "    print(\"\\tAccuracy score (validation): {0:.8f}\".format(gb_clf.score(X_test, y_test)))\n",
    "    scores = cross_val_score(gb_clf, X_train, y_train, cv=5, scoring='f1_weighted')\n",
    "    print(\"\\tCross Validation score: \", scores)\n"
   ]
  },
  {
   "cell_type": "code",
   "execution_count": 45,
   "id": "f276a5b3",
   "metadata": {},
   "outputs": [
    {
     "name": "stdout",
     "output_type": "stream",
     "text": [
      "Confusion Matrix:\n",
      "[[3 1 0]\n",
      " [0 4 0]\n",
      " [0 0 6]]\n",
      "Classification Report\n",
      "              precision    recall  f1-score   support\n",
      "\n",
      "           0       1.00      0.75      0.86         4\n",
      "           1       0.80      1.00      0.89         4\n",
      "           2       1.00      1.00      1.00         6\n",
      "\n",
      "    accuracy                           0.93        14\n",
      "   macro avg       0.93      0.92      0.92        14\n",
      "weighted avg       0.94      0.93      0.93        14\n",
      "\n"
     ]
    }
   ],
   "source": [
    "gb_clf2 = GradientBoostingClassifier(n_estimators=20, learning_rate=0.5, max_features=2, max_depth=2, random_state=0)\n",
    "gb_clf2.fit(X_train, y_train)\n",
    "predictions = gb_clf2.predict(X_test)\n",
    "\n",
    "print(\"Confusion Matrix:\")\n",
    "print(confusion_matrix(y_test, predictions))\n",
    "\n",
    "print(\"Classification Report\")\n",
    "print(classification_report(y_test, predictions))"
   ]
  },
  {
   "cell_type": "markdown",
   "id": "2d541c02",
   "metadata": {},
   "source": [
    "## K-Nearest Neighbors Classifier"
   ]
  },
  {
   "cell_type": "code",
   "execution_count": 46,
   "id": "d668f12a",
   "metadata": {},
   "outputs": [
    {
     "data": {
      "text/plain": [
       "(40, 6)"
      ]
     },
     "execution_count": 46,
     "metadata": {},
     "output_type": "execute_result"
    }
   ],
   "source": [
    "knn = KNeighborsClassifier(n_neighbors=3)\n",
    "\n",
    "knn.fit(x_train, y_train)\n",
    "x_train.shape"
   ]
  },
  {
   "cell_type": "code",
   "execution_count": 47,
   "id": "2add8abd",
   "metadata": {},
   "outputs": [
    {
     "data": {
      "text/plain": [
       "(14,)"
      ]
     },
     "execution_count": 47,
     "metadata": {},
     "output_type": "execute_result"
    }
   ],
   "source": [
    "y_test.shape"
   ]
  },
  {
   "cell_type": "code",
   "execution_count": 48,
   "metadata": {},
   "outputs": [
    {
     "name": "stdout",
     "output_type": "stream",
     "text": [
      "y_pred_test\t\t: [2 2 2 2 2 2 2 2 2 2 2 2 2 2]\n",
      "y_test     \t\t: [0 0 0 1 1 1 2 1 1 0 1 1 0 2 1 2 1 0 0 2 0 0 1 2 2 1 2 2 0 0 0 1 2 2 0 1 2\n",
      " 0 1 2]\n",
      "Accuracy_train: 0.4286\n",
      "KNN accuracy_train: 0.42857142857142855\n",
      "Accuracy_train: 0.3000\n",
      "KNN accuracy_train: 0.3\n",
      "F1 score: 0.42857142857142855\n"
     ]
    }
   ],
   "source": [
    "\n",
    "y_pred_train = knn.predict(X_train)\n",
    "y_pred_test = knn.predict(X_test)\n",
    "# clf = LogisticRegression()\n",
    "print(f'y_pred_test\\t\\t: {y_pred_test}')\n",
    "print(f'y_test     \\t\\t: {y_train}')\n",
    "\n",
    "\n",
    "print(f'Accuracy_train: {accuracy_score(y_test, y_pred_test):.4f}')\n",
    "print(f'KNN accuracy_train: {knn.score(X_test, y_test)}')\n",
    "\n",
    "print(f'Accuracy_train: {accuracy_score(y_train, y_pred_train):.4f}')\n",
    "print(f'KNN accuracy_train: {knn.score(X_train, y_train)}')\n",
    "\n",
    "print(f\"F1 score: {f1_score(y_test, y_pred_test, average='micro')}\")"
   ]
  },
  {
   "cell_type": "code",
   "execution_count": null,
   "id": "68721e4f",
   "metadata": {},
   "outputs": [],
   "source": []
  },
  {
   "cell_type": "code",
   "execution_count": 49,
   "id": "f94b9116",
   "metadata": {},
   "outputs": [
    {
     "data": {
      "text/plain": [
       "1.0"
      ]
     },
     "execution_count": 49,
     "metadata": {},
     "output_type": "execute_result"
    }
   ],
   "source": [
    "fpr, tpr, thresholds = roc_curve(y_test, y_test, pos_label=2)\n",
    "auc(fpr, tpr)"
   ]
  },
  {
   "cell_type": "code",
   "execution_count": null,
   "id": "2ef456a9",
   "metadata": {},
   "outputs": [],
   "source": []
  },
  {
   "cell_type": "code",
   "execution_count": 50,
   "metadata": {},
   "outputs": [
    {
     "name": "stdout",
     "output_type": "stream",
     "text": [
      "[0, 0, 1, 1, 2, 2, 2, 0, 1, 2, 0]\n"
     ]
    }
   ],
   "source": [
    "prediction = []\n",
    "for i in range(11):\n",
    "    p = knn.predict(x_test[i].reshape(1,-1))\n",
    "    prediction.append(p[0])\n",
    "\n",
    "print(prediction)"
   ]
  },
  {
   "cell_type": "code",
   "execution_count": 51,
   "metadata": {},
   "outputs": [],
   "source": [
    "with open('model.pkl', 'wb') as model_file:\n",
    "  pickle.dump(gb_clf2, model_file)"
   ]
  },
  {
   "cell_type": "code",
   "execution_count": 52,
   "metadata": {},
   "outputs": [
    {
     "name": "stdout",
     "output_type": "stream",
     "text": [
      "0.35\n"
     ]
    }
   ],
   "source": [
    "loaded_model = pickle.load(open(\"model.pkl\", 'rb'))\n",
    "result = loaded_model.score(x_train, y_train)\n",
    "print(result)"
   ]
  },
  {
   "cell_type": "code",
   "execution_count": 53,
   "metadata": {},
   "outputs": [
    {
     "data": {
      "text/plain": [
       "'x_train, x_test, y_train, y_test = train_test_split(X, y, test_size = 0.2, random_state = 42)\\nknn = KNeighborsClassifier(n_neighbors=3)\\n\\nknn.fit(x_train, y_train)\\nclf = LogisticRegression()\\nclf.fit(x_train, y_train)\\n\\nprint(knn.score(x_test, y_test))\\nprint(clf.score(x_test, y_test))'"
      ]
     },
     "execution_count": 53,
     "metadata": {},
     "output_type": "execute_result"
    }
   ],
   "source": [
    "'''x_train, x_test, y_train, y_test = train_test_split(X, y, test_size = 0.2, random_state = 42)\n",
    "knn = KNeighborsClassifier(n_neighbors=3)\n",
    "\n",
    "knn.fit(x_train, y_train)\n",
    "clf = LogisticRegression()\n",
    "clf.fit(x_train, y_train)\n",
    "\n",
    "print(knn.score(x_test, y_test))\n",
    "print(clf.score(x_test, y_test))'''"
   ]
  },
  {
   "cell_type": "code",
   "execution_count": 54,
   "metadata": {},
   "outputs": [
    {
     "data": {
      "text/plain": [
       "'prediction = []\\nfor i in range(11):\\n    p = knn.predict(x_test[i].reshape(1,-1))\\n    prediction.append(p[0])\\n\\nprint(prediction)'"
      ]
     },
     "execution_count": 54,
     "metadata": {},
     "output_type": "execute_result"
    }
   ],
   "source": [
    "'''prediction = []\n",
    "for i in range(11):\n",
    "    p = knn.predict(x_test[i].reshape(1,-1))\n",
    "    prediction.append(p[0])\n",
    "\n",
    "print(prediction)'''"
   ]
  },
  {
   "cell_type": "code",
   "execution_count": 55,
   "metadata": {},
   "outputs": [],
   "source": [
    "# with open('model.pkl', 'wb') as model_file:\n",
    "#   pickle.dump(knn, model_file)"
   ]
  },
  {
   "cell_type": "code",
   "execution_count": null,
   "metadata": {},
   "outputs": [],
   "source": []
  }
 ],
 "metadata": {
  "kernelspec": {
   "display_name": "Python 3.8.5 ('base')",
   "language": "python",
   "name": "python3"
  },
  "language_info": {
   "codemirror_mode": {
    "name": "ipython",
    "version": 3
   },
   "file_extension": ".py",
   "mimetype": "text/x-python",
   "name": "python",
   "nbconvert_exporter": "python",
   "pygments_lexer": "ipython3",
   "version": "3.8.5"
  },
  "vscode": {
   "interpreter": {
    "hash": "ad2bdc8ecc057115af97d19610ffacc2b4e99fae6737bb82f5d7fb13d2f2c186"
   }
  }
 },
 "nbformat": 4,
 "nbformat_minor": 5
}
